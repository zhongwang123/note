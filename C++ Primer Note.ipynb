{
 "cells": [
  {
   "cell_type": "markdown",
   "metadata": {},
   "source": [
    "# C++ Primer Note\n"
   ]
  },
  {
   "cell_type": "markdown",
   "metadata": {},
   "source": [
    "### chap01\n",
    "+ 可以使用`while (std::cin>>value)`来读取所有输入 (p.13)"
   ]
  },
  {
   "cell_type": "markdown",
   "metadata": {},
   "source": [
    "### chap02\n",
    "+ 如果给一个无符号整数超过它表示范围的值，将会得到一个对无符号数总数取模的余数，如果对一个有符号整数做同样的操作，结果是未定义的 (p.33)\n",
    "+ 混用无符号数和有符号数时，有符号数会自动转换为无符号数，如果有符号数的值是负的，那么结果很有可能是错误的 (p.33)\n",
    "+ C++11全面引入列表初始化，列表初始化过程中，如果可能造成信息丢失，那么编译器将报错 (p.39)\n",
    "+ 嵌套作用域中已经存在变量覆盖全局作用域变量时，可以用`::reused`语法获取全局变量 (p.44)\n",
    "+ 引用即别名，一旦与变量绑定就不能改变，所以引用必须初始化 (p.46)\n",
    "+ `void*`指针因为指向的数据类型未知，所以功能受限 (p.50)\n",
    "+ 指向指针的引用 `int *p,int *&r=p`,其中`r`就是指针`p`的引用"
   ]
  },
  {
   "cell_type": "markdown",
   "metadata": {},
   "source": [
    "### const\n",
    "`const` 用于声明变量是不可以改变的，因此必须初始化，由编译器进行全局替换\n",
    "默认情况下,`const`是只在文件内有效的，如果希望`const`在多个文件中有效，需要使用`extern`关键字，无论是声明还是定义都需要添加该关键字\n",
    "\n",
    "###### 常量引用\n",
    "对于`const`限定的常量，只可以用常量引用来绑定\n",
    "```C++\n",
    "const int ci=1024;\n",
    "const int &r1=ci; //常见形式\n",
    "```\n",
    "上面的代码中，无论是ci还是ri都是不可改变的\n",
    "```C++\n",
    "int a=1;\n",
    "const int &r1=a;\n",
    "```\n",
    "这份代码也是合法的，a是可变的，并且这种变化会反应在r1上，`const`唯一的限定是不可以通过r1来改变a的值\n",
    "\n",
    "常量引用初始化时不要求类型一致，只需要可以表达式可以转换为常量引用的类型\n",
    "\n",
    "同上，对于`const`限定的常量，只能用常量指针来指向\n",
    "常量指针不可以用来改变指向的对象\n",
    "\n",
    "`const int *const curErr=&errNumb`表示指针curErr是一个指向常量的指针（虽然实际上该常量可以通过其他方式改变），不可以用来改变errNumb的值，同时它作为一个对象，是不可以改变的，换言之，它必须始终指向errNumb  \n",
    "读取该指针类型时，可以从左往右  \n",
    "`const int *const pip`  \n",
    "pip首先是一个常量，其次是一个指针，指向的是一个const int  \n",
    "左边的`const`是底层const，右边的`const`是顶层const  \n",
    "拷贝对象时，顶层const和底层const有明显区别，如下  \n",
    "```C++\n",
    "const int *p=a;\n",
    "int *p2=p;//error!\n",
    "```\n",
    "p2是无限制指针，而p具有底层const，拷入拷出时，两个对象必须具有同样的底层const资格，或者两者可以互相转换"
   ]
  },
  {
   "cell_type": "markdown",
   "metadata": {},
   "source": []
  }
 ],
 "metadata": {
  "kernelspec": {
   "display_name": "Python 2",
   "language": "python",
   "name": "python2"
  },
  "language_info": {
   "codemirror_mode": {
    "name": "ipython",
    "version": 2
   },
   "file_extension": ".py",
   "mimetype": "text/x-python",
   "name": "python",
   "nbconvert_exporter": "python",
   "pygments_lexer": "ipython2",
   "version": "2.7.10"
  }
 },
 "nbformat": 4,
 "nbformat_minor": 2
}
